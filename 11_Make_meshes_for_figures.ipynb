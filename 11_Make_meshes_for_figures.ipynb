{
 "cells": [
  {
   "cell_type": "code",
   "execution_count": 30,
   "metadata": {},
   "outputs": [
    {
     "name": "stdout",
     "output_type": "stream",
     "text": [
      "Enabling notebook extension mayavi/x3d/x3dom...\n",
      "      - Validating: \u001b[32mOK\u001b[0m\n"
     ]
    }
   ],
   "source": [
    "#!jupyter nbextension install --py mayavi --user\n",
    "#!jupyter nbextension enable mayavi --user --py"
   ]
  },
  {
   "cell_type": "markdown",
   "metadata": {},
   "source": [
    "## This notebook generates the meshes required for the 3D visualization\n",
    "\n",
    "The meshes are based on the MASSP atlas. A marching cubes algorithm is used to generate the meshes, after which they are decimated to decrease size & improve performance.\n",
    "\n",
    "Requires meshlab"
   ]
  },
  {
   "cell_type": "code",
   "execution_count": 3,
   "metadata": {},
   "outputs": [
    {
     "name": "stderr",
     "output_type": "stream",
     "text": [
      "Exception ignored on calling ctypes callback function: <function ThreadpoolController._find_libraries_with_dl_iterate_phdr.<locals>.match_library_callback at 0x7fa80adb2dc0>\n",
      "Traceback (most recent call last):\n",
      "  File \"/home/stevenm/miniconda3/lib/python3.9/site-packages/threadpoolctl.py\", line 1005, in match_library_callback\n",
      "    self._make_controller_from_path(filepath)\n",
      "  File \"/home/stevenm/miniconda3/lib/python3.9/site-packages/threadpoolctl.py\", line 1175, in _make_controller_from_path\n",
      "    lib_controller = controller_class(\n",
      "  File \"/home/stevenm/miniconda3/lib/python3.9/site-packages/threadpoolctl.py\", line 114, in __init__\n",
      "    self.dynlib = ctypes.CDLL(filepath, mode=_RTLD_NOLOAD)\n",
      "  File \"/home/stevenm/miniconda3/lib/python3.9/ctypes/__init__.py\", line 382, in __init__\n",
      "    self._handle = _dlopen(self._name, mode)\n",
      "OSError: dlopen() error\n",
      "Exception ignored on calling ctypes callback function: <function ThreadpoolController._find_libraries_with_dl_iterate_phdr.<locals>.match_library_callback at 0x7fa80adb2dc0>\n",
      "Traceback (most recent call last):\n",
      "  File \"/home/stevenm/miniconda3/lib/python3.9/site-packages/threadpoolctl.py\", line 1005, in match_library_callback\n",
      "    self._make_controller_from_path(filepath)\n",
      "  File \"/home/stevenm/miniconda3/lib/python3.9/site-packages/threadpoolctl.py\", line 1175, in _make_controller_from_path\n",
      "    lib_controller = controller_class(\n",
      "  File \"/home/stevenm/miniconda3/lib/python3.9/site-packages/threadpoolctl.py\", line 114, in __init__\n",
      "    self.dynlib = ctypes.CDLL(filepath, mode=_RTLD_NOLOAD)\n",
      "  File \"/home/stevenm/miniconda3/lib/python3.9/ctypes/__init__.py\", line 382, in __init__\n",
      "    self._handle = _dlopen(self._name, mode)\n",
      "OSError: dlopen() error\n"
     ]
    }
   ],
   "source": [
    "import nibabel as nib\n",
    "import glob\n",
    "import os\n",
    "import nilearn\n",
    "from nilearn import plotting\n",
    "import nighres\n",
    "import shutil\n",
    "import re\n",
    "# import pymeshlab\n",
    "import numpy\n",
    "\n",
    "from skimage.measure import marching_cubes"
   ]
  },
  {
   "cell_type": "code",
   "execution_count": 4,
   "metadata": {},
   "outputs": [],
   "source": [
    "def write_obj(fn, verts, faces, normals):\n",
    "    faces += 1  # 1-based\n",
    "    with open(fn, 'w') as f:\n",
    "        for item in verts:\n",
    "            f.write(\"v {0} {1} {2}\\n\".format(item[0],item[1],item[2]))\n",
    "\n",
    "        for item in normals:\n",
    "            f.write(\"vn {0} {1} {2}\\n\".format(item[0],item[1],item[2]))\n",
    "\n",
    "        for item in faces:\n",
    "            f.write(\"f {0}//{0} {1}//{1} {2}//{2}\\n\".format(item[0],item[1],item[2]))  \n",
    "\n",
    "        f.close()\n",
    "\n",
    "def read_obj(fn):\n",
    "    import re\n",
    "    faces_regex = re.compile('f (?P<a>\\d+)//(?P<b>\\d+) (?P<c>\\d+)//(?P<d>\\d+) (?P<e>\\d+)//(?P<f>\\d+)\\n')\n",
    "    faces = []\n",
    "    normals = []\n",
    "    verts = []\n",
    "    with open(fn, 'r') as f:\n",
    "        obj_file = f.readlines()\n",
    "        for line in obj_file:\n",
    "            if line[0:2] == 'vn':\n",
    "                normals.append(np.array([float(x) for x in line.split(' ')[1:]]))\n",
    "            elif line[0] == 'v':\n",
    "                verts.append(np.array([float(x) for x in line.split(' ')[1:]]))\n",
    "            elif line[0] == 'f':\n",
    "                if '//' in line:\n",
    "                    gd = faces_regex.match(line)\n",
    "                    faces.append(np.array([int(gd['a'])-1, int(gd['c'])-1, int(gd['e'])-1]))\n",
    "                else:\n",
    "                    faces.append(np.array([float(x) for x in line.split(' ')[1:]])-1)\n",
    "                \n",
    "    verts = np.array(verts)\n",
    "    normals = np.array(normals)\n",
    "    faces = np.array(faces)\n",
    "    return verts, faces, normals"
   ]
  },
  {
   "cell_type": "markdown",
   "metadata": {},
   "source": [
    "## Original masks of MASSP"
   ]
  },
  {
   "cell_type": "code",
   "execution_count": 85,
   "metadata": {},
   "outputs": [],
   "source": [
    "massp_masks = sorted(glob.glob('/home/stevenm/Projects/trondheim/sourcedata/massp_young_atlas_from_figshare/massp2021-subcortex_avg-*_hem-*_decade-18to40_n54.nii.gz'))\n",
    "# all_masks"
   ]
  },
  {
   "cell_type": "code",
   "execution_count": null,
   "metadata": {},
   "outputs": [],
   "source": [
    "target_dir = './objs/massp/original_meshes'\n",
    "if not os.path.exists(target_dir):\n",
    "    os.makedirs(target_dir)\n",
    "\n",
    "regex = re.compile('.*massp2021-subcortex_avg-(?P<roi>\\S+)_hem-(?P<hemisphere>\\S+)_.*-18to40_n54.ni*')\n",
    "\n",
    "all_masks = {}\n",
    "for mask in massp_masks:\n",
    "    print(mask)\n",
    "    roi_name = regex.match(mask).groupdict()['roi']\n",
    "    hemisphere = regex.match(mask).groupdict()['hemisphere']\n",
    "    mask_name = regex.match(mask).groupdict()['roi'] + regex.match(mask).groupdict()['hemisphere']\n",
    "    data = nib.load(mask).get_fdata()\n",
    "    verts, faces, normals, values = marching_cubes(data)\n",
    "    write_obj(os.path.join(target_dir, '{}-{}.obj'.format(roi_name, hemisphere)), verts, faces, normals)"
   ]
  },
  {
   "cell_type": "code",
   "execution_count": 86,
   "metadata": {},
   "outputs": [
    {
     "name": "stdout",
     "output_type": "stream",
     "text": [
      "./objs/massp/original_meshes/amg-l.obj.../objs/massp/original_meshes/amg-r.obj.../objs/massp/original_meshes/cl-l.obj.../objs/massp/original_meshes/cl-r.obj.../objs/massp/original_meshes/fx-lr.obj.../objs/massp/original_meshes/gpe-l.obj.../objs/massp/original_meshes/gpe-r.obj.../objs/massp/original_meshes/gpi-l.obj.../objs/massp/original_meshes/gpi-r.obj.../objs/massp/original_meshes/ic-l.obj.../objs/massp/original_meshes/ic-r.obj.../objs/massp/original_meshes/pag-l.obj.../objs/massp/original_meshes/pag-r.obj.../objs/massp/original_meshes/ppn-l.obj.../objs/massp/original_meshes/ppn-r.obj.../objs/massp/original_meshes/rn-l.obj.../objs/massp/original_meshes/rn-r.obj.../objs/massp/original_meshes/sn-l.obj.../objs/massp/original_meshes/sn-r.obj.../objs/massp/original_meshes/stn-l.obj.../objs/massp/original_meshes/stn-r.obj.../objs/massp/original_meshes/str-l.obj.../objs/massp/original_meshes/str-r.obj.../objs/massp/original_meshes/tha-l.obj.../objs/massp/original_meshes/tha-r.obj.../objs/massp/original_meshes/vent-3.obj.../objs/massp/original_meshes/vent-4.obj.../objs/massp/original_meshes/vent-l.obj.../objs/massp/original_meshes/vent-r.obj.../objs/massp/original_meshes/vta-l.obj.../objs/massp/original_meshes/vta-r.obj.."
     ]
    }
   ],
   "source": [
    "# Some cleaning\n",
    "import pymeshlab\n",
    "\n",
    "for fn in sorted(glob.glob('./objs/massp/original_meshes/*.obj')):\n",
    "    print(fn, end='..')\n",
    "    ms = pymeshlab.MeshSet()\n",
    "    ms.load_new_mesh(fn)\n",
    "#    ms.meshing_repair_non_manifold_vertices()\n",
    "#    ms.meshing_repair_non_manifold_edges()\n",
    "    # ms.meshing_decimation_edge_collapse_for_marching_cube_meshes()\n",
    "    ms.apply_coord_laplacian_smoothing()\n",
    "    ms.meshing_re_orient_faces_coherently()\n",
    "#    ms.meshing_invert_face_orientation()\n",
    "    # ms.meshing_decimation_quadric_edge_collapse(targetperc=.7)\n",
    "\n",
    "    \n",
    "#     # simplify here\n",
    "#     ms.\n",
    "    \n",
    "    ms.save_current_mesh('./objs/massp/' + os.path.basename(fn))"
   ]
  },
  {
   "cell_type": "code",
   "execution_count": null,
   "metadata": {},
   "outputs": [],
   "source": []
  },
  {
   "cell_type": "markdown",
   "metadata": {},
   "source": [
    "## Original masks of Str (MASSP 2)"
   ]
  },
  {
   "cell_type": "code",
   "execution_count": 5,
   "metadata": {},
   "outputs": [],
   "source": [
    "str_masks = sorted(glob.glob('./sourcedata/massp2/proba_ahead-massp2_avg-cau_hem-*_decade-18to40_n50.nii.gz')) + \\\n",
    "sorted(glob.glob('./sourcedata/massp2/proba_ahead-massp2_avg-acc_hem-*_decade-18to40_n50.nii.gz')) + \\\n",
    "sorted(glob.glob('./sourcedata/massp2/proba_ahead-massp2_avg-put_hem-*_decade-18to40_n50.nii.gz'))\n",
    "# str_masks"
   ]
  },
  {
   "cell_type": "code",
   "execution_count": 6,
   "metadata": {},
   "outputs": [
    {
     "name": "stdout",
     "output_type": "stream",
     "text": [
      "./sourcedata/massp2/proba_ahead-massp2_avg-cau_hem-l_decade-18to40_n50.nii.gz\n",
      "./sourcedata/massp2/proba_ahead-massp2_avg-cau_hem-r_decade-18to40_n50.nii.gz\n",
      "./sourcedata/massp2/proba_ahead-massp2_avg-acc_hem-l_decade-18to40_n50.nii.gz\n",
      "./sourcedata/massp2/proba_ahead-massp2_avg-acc_hem-r_decade-18to40_n50.nii.gz\n",
      "./sourcedata/massp2/proba_ahead-massp2_avg-put_hem-l_decade-18to40_n50.nii.gz\n",
      "./sourcedata/massp2/proba_ahead-massp2_avg-put_hem-r_decade-18to40_n50.nii.gz\n"
     ]
    }
   ],
   "source": [
    "target_dir = './objs/massp2/original_meshes'\n",
    "if not os.path.exists(target_dir):\n",
    "    os.makedirs(target_dir)\n",
    "\n",
    "regex = re.compile('.*proba_ahead-massp2_avg-(?P<roi>\\S+)_hem-(?P<hemisphere>\\S+)_.*-18to40_n50.ni*')\n",
    "\n",
    "all_masks = {}\n",
    "for mask in str_masks:\n",
    "    print(mask)\n",
    "    roi_name = regex.match(mask).groupdict()['roi']\n",
    "    hemisphere = regex.match(mask).groupdict()['hemisphere']\n",
    "    mask_name = regex.match(mask).groupdict()['roi'] + regex.match(mask).groupdict()['hemisphere']\n",
    "    data = nib.load(mask).get_fdata()\n",
    "    verts, faces, normals, values = marching_cubes(data)\n",
    "    write_obj(os.path.join(target_dir, '{}-{}.obj'.format(roi_name, hemisphere)), verts, faces, normals)"
   ]
  },
  {
   "cell_type": "code",
   "execution_count": 94,
   "metadata": {},
   "outputs": [
    {
     "name": "stdout",
     "output_type": "stream",
     "text": [
      "./objs/massp2/original_meshes/acc-l.obj.../objs/massp2/original_meshes/acc-r.obj.../objs/massp2/original_meshes/cau-l.obj.../objs/massp2/original_meshes/cau-r.obj.../objs/massp2/original_meshes/put-l.obj.../objs/massp2/original_meshes/put-r.obj.."
     ]
    }
   ],
   "source": [
    "import pymeshlab\n",
    "\n",
    "# let's use the young subjects\n",
    "for fn in sorted(glob.glob('./objs/massp2/original_meshes/*.obj')):\n",
    "    print(fn, end='..')\n",
    "    ms = pymeshlab.MeshSet()\n",
    "    ms.load_new_mesh(fn)\n",
    "#    ms.meshing_repair_non_manifold_vertices()\n",
    "#    ms.meshing_repair_non_manifold_edges()\n",
    "#    ms.meshing_decimation_edge_collapse_for_marching_cube_meshes()\n",
    "    ms.apply_coord_laplacian_smoothing()\n",
    "    ms.meshing_re_orient_faces_coherently()\n",
    "#    ms.meshing_invert_face_orientation()\n",
    "    # ms.meshing_decimation_quadric_edge_collapse(targetperc=.7)\n",
    "\n",
    "    \n",
    "#     # simplify here\n",
    "#     ms.\n",
    "    \n",
    "    ms.save_current_mesh('./objs/massp2/' + os.path.basename(fn))"
   ]
  },
  {
   "cell_type": "markdown",
   "metadata": {},
   "source": [
    "## Original masks of Thalamus"
   ]
  },
  {
   "cell_type": "code",
   "execution_count": 58,
   "metadata": {},
   "outputs": [
    {
     "data": {
      "text/plain": [
       "{'label': 'LGN', 'hemisphere': 'l'}"
      ]
     },
     "execution_count": 58,
     "metadata": {},
     "output_type": "execute_result"
    }
   ],
   "source": [
    "# mask = '/home/Public/trondheim/derivatives/thalamic_segmentations/0p5mm/sub-002/sub-002_roi-LGN-l_res-0p5.nii.gz'\n",
    "\n",
    "# regex_masks = re.compile('.*_roi-(?P<label>\\S+)-(?P<hemisphere>\\S)_res-0p5.nii.gz')\n",
    "# regex_masks.match(mask).groupdict()\n",
    "# t1w = '/home/Public/trondheim/derivatives/fmriprep/fmriprep/sub-002/anat/sub-002_desc-preproc_T1w.nii.gz'\n",
    "# plotting.plot_stat_map(mask, bg_img=t1w)"
   ]
  },
  {
   "cell_type": "code",
   "execution_count": 64,
   "metadata": {},
   "outputs": [],
   "source": [
    "all_subs = sorted(glob.glob('/home/Public/trondheim/derivatives/thalamic_segmentations/0p5mm/*'))\n",
    "all_subs = [x.split('-')[-1] for x in all_subs]"
   ]
  },
  {
   "cell_type": "code",
   "execution_count": 66,
   "metadata": {},
   "outputs": [
    {
     "name": "stdout",
     "output_type": "stream",
     "text": [
      "003002004\n",
      "\n",
      "005008006007\n",
      "009\n",
      "\n",
      "\n",
      "\n",
      "\n",
      "010\n",
      "011012013\n",
      "\n",
      "014\n",
      "015\n",
      "\n",
      "018020019021\n",
      "\n",
      "\n",
      "\n",
      "016017\n",
      "\n",
      "022\n",
      "023\n",
      "024\n",
      "025\n",
      "026\n",
      "027\n",
      "029\n",
      "030\n",
      "031\n",
      "032\n",
      "033\n",
      "034\n",
      "035\n",
      "036\n",
      "037\n",
      "038\n",
      "039\n",
      "040\n",
      "041\n",
      "042\n",
      "043\n",
      "044\n"
     ]
    }
   ],
   "source": [
    "## Warp individual subjects' parcellations to MNI-space\n",
    "import multiprocess as mp\n",
    "from utils import *\n",
    "def warp_masks_2_mni(sub, overwrite=False):\n",
    "    print(sub)\n",
    "#     regex_masks = re.compile('.*/space-MNI152NLin2009cAsym_label-(?P<label>\\S+)_probseg.nii.gz')\n",
    "    regex_masks = re.compile('.*_roi-(?P<label>\\S+)-(?P<hemisphere>\\S)_res-0p5.nii.gz')\n",
    "    all_masks = sorted(glob.glob(f'/home/Public/trondheim/derivatives/thalamic_segmentations/0p5mm/sub-{sub}/sub-{sub}_roi-*-*_res-0p5.nii.gz'))\n",
    "    \n",
    "    output_img_base = f'./thalamus_mni/sub-{sub}/anat/sub-{sub}_space-MNI152NLin2009cAsym_desc-mask-{{label}}-{{hemisphere}}.nii.gz'\n",
    "    \n",
    "    for mask in all_masks:\n",
    "        mask_label = regex_masks.match(mask).groupdict()['label']\n",
    "        mask_hemisphere = regex_masks.match(mask).groupdict()['hemisphere']\n",
    "        \n",
    "        final_img_fn = output_img_base.format(label=mask_label, hemisphere=mask_hemisphere)\n",
    "        if not os.path.exists(final_img_fn) or overwrite:\n",
    "            os.makedirs(os.path.dirname(final_img_fn), exist_ok=True)\n",
    "            tmp_img_name = apply_warp(mask, sub=sub, t1w_to_MNI=True)\n",
    "            shutil.move(tmp_img_name, final_img_fn)\n",
    "\n",
    "with mp.Pool(20) as p:\n",
    "    p.map(warp_masks_2_mni, all_subs)"
   ]
  },
  {
   "cell_type": "code",
   "execution_count": 87,
   "metadata": {},
   "outputs": [
    {
     "name": "stderr",
     "output_type": "stream",
     "text": [
      "/tmp/ipykernel_552535/415347458.py:11: FutureWarning:\n",
      "\n",
      "From release 0.13.0 onwards, this function will, by default, copy the header of the input image to the output. Currently, the header is reset to the default Nifti1Header. To suppress this warning and use the new behavior, set `copy_header=True`.\n",
      "\n"
     ]
    }
   ],
   "source": [
    "## Get mean across subjects\n",
    "all_mask_names = sorted(glob.glob('/home/Public/trondheim/derivatives/thalamic_segmentations/0p5mm/sub-002/sub-002_roi-*_res-0p5.nii.gz'))\n",
    "regex_masks = re.compile('.*_roi-(?P<label>\\S+)-(?P<hemisphere>\\S)_res-0p5.nii.gz')\n",
    "all_mask_names = [regex_masks.match(x).groupdict() for x in all_mask_names]\n",
    "for mask_dict in all_mask_names:\n",
    "    label, hemisphere = mask_dict['label'], mask_dict['hemisphere']\n",
    "    output_fn = f'thalamus_mni/space-MNI152NLin2009cAsym_desc-mask-{label}-{hemisphere}_avg.nii.gz'\n",
    "    if os.path.exists(output_fn):\n",
    "        continue\n",
    "    fns = sorted(glob.glob(f'thalamus_mni/sub-*/anat/sub-*_space-MNI152NLin2009cAsym_desc-mask-{label}-{hemisphere}.nii.gz'))\n",
    "    mn = nilearn.image.mean_img(fns)\n",
    "    mn.to_filename(output_fn)\n",
    "\n",
    "## Average fns now created, next up: Make meshes"
   ]
  },
  {
   "cell_type": "code",
   "execution_count": 92,
   "metadata": {},
   "outputs": [
    {
     "name": "stdout",
     "output_type": "stream",
     "text": [
      "thalamus_mni/space-MNI152NLin2009cAsym_desc-mask-AV-l_avg.nii.gz\n"
     ]
    },
    {
     "name": "stderr",
     "output_type": "stream",
     "text": [
      "/tmp/ipykernel_552535/2424108890.py:22: FutureWarning:\n",
      "\n",
      "'force_resample' will be set to 'True' by default in Nilearn 0.13.0.\n",
      "Use 'force_resample=True' to suppress this warning.\n",
      "\n",
      "/home/stevenm/miniconda3/lib/python3.9/site-packages/nilearn/image/resampling.py:807: FutureWarning:\n",
      "\n",
      "From release 0.13.0 onwards, this function will, by default, copy the header of the input image to the output. Currently, the header is reset to the default Nifti1Header. To suppress this warning and use the new behavior, set `copy_header=True`.\n",
      "\n"
     ]
    },
    {
     "name": "stdout",
     "output_type": "stream",
     "text": [
      "thalamus_mni/space-MNI152NLin2009cAsym_desc-mask-AV-r_avg.nii.gz\n"
     ]
    },
    {
     "name": "stderr",
     "output_type": "stream",
     "text": [
      "/tmp/ipykernel_552535/2424108890.py:22: FutureWarning:\n",
      "\n",
      "'force_resample' will be set to 'True' by default in Nilearn 0.13.0.\n",
      "Use 'force_resample=True' to suppress this warning.\n",
      "\n",
      "/home/stevenm/miniconda3/lib/python3.9/site-packages/nilearn/image/resampling.py:807: FutureWarning:\n",
      "\n",
      "From release 0.13.0 onwards, this function will, by default, copy the header of the input image to the output. Currently, the header is reset to the default Nifti1Header. To suppress this warning and use the new behavior, set `copy_header=True`.\n",
      "\n"
     ]
    },
    {
     "name": "stdout",
     "output_type": "stream",
     "text": [
      "thalamus_mni/space-MNI152NLin2009cAsym_desc-mask-CL-l_avg.nii.gz\n"
     ]
    },
    {
     "name": "stderr",
     "output_type": "stream",
     "text": [
      "/tmp/ipykernel_552535/2424108890.py:22: FutureWarning:\n",
      "\n",
      "'force_resample' will be set to 'True' by default in Nilearn 0.13.0.\n",
      "Use 'force_resample=True' to suppress this warning.\n",
      "\n",
      "/home/stevenm/miniconda3/lib/python3.9/site-packages/nilearn/image/resampling.py:807: FutureWarning:\n",
      "\n",
      "From release 0.13.0 onwards, this function will, by default, copy the header of the input image to the output. Currently, the header is reset to the default Nifti1Header. To suppress this warning and use the new behavior, set `copy_header=True`.\n",
      "\n"
     ]
    },
    {
     "name": "stdout",
     "output_type": "stream",
     "text": [
      "thalamus_mni/space-MNI152NLin2009cAsym_desc-mask-CL-r_avg.nii.gz\n"
     ]
    },
    {
     "name": "stderr",
     "output_type": "stream",
     "text": [
      "/tmp/ipykernel_552535/2424108890.py:22: FutureWarning:\n",
      "\n",
      "'force_resample' will be set to 'True' by default in Nilearn 0.13.0.\n",
      "Use 'force_resample=True' to suppress this warning.\n",
      "\n",
      "/home/stevenm/miniconda3/lib/python3.9/site-packages/nilearn/image/resampling.py:807: FutureWarning:\n",
      "\n",
      "From release 0.13.0 onwards, this function will, by default, copy the header of the input image to the output. Currently, the header is reset to the default Nifti1Header. To suppress this warning and use the new behavior, set `copy_header=True`.\n",
      "\n"
     ]
    },
    {
     "name": "stdout",
     "output_type": "stream",
     "text": [
      "thalamus_mni/space-MNI152NLin2009cAsym_desc-mask-CM-l_avg.nii.gz\n"
     ]
    },
    {
     "name": "stderr",
     "output_type": "stream",
     "text": [
      "/tmp/ipykernel_552535/2424108890.py:22: FutureWarning:\n",
      "\n",
      "'force_resample' will be set to 'True' by default in Nilearn 0.13.0.\n",
      "Use 'force_resample=True' to suppress this warning.\n",
      "\n",
      "/home/stevenm/miniconda3/lib/python3.9/site-packages/nilearn/image/resampling.py:807: FutureWarning:\n",
      "\n",
      "From release 0.13.0 onwards, this function will, by default, copy the header of the input image to the output. Currently, the header is reset to the default Nifti1Header. To suppress this warning and use the new behavior, set `copy_header=True`.\n",
      "\n"
     ]
    },
    {
     "name": "stdout",
     "output_type": "stream",
     "text": [
      "thalamus_mni/space-MNI152NLin2009cAsym_desc-mask-CM-r_avg.nii.gz\n"
     ]
    },
    {
     "name": "stderr",
     "output_type": "stream",
     "text": [
      "/tmp/ipykernel_552535/2424108890.py:22: FutureWarning:\n",
      "\n",
      "'force_resample' will be set to 'True' by default in Nilearn 0.13.0.\n",
      "Use 'force_resample=True' to suppress this warning.\n",
      "\n",
      "/home/stevenm/miniconda3/lib/python3.9/site-packages/nilearn/image/resampling.py:807: FutureWarning:\n",
      "\n",
      "From release 0.13.0 onwards, this function will, by default, copy the header of the input image to the output. Currently, the header is reset to the default Nifti1Header. To suppress this warning and use the new behavior, set `copy_header=True`.\n",
      "\n"
     ]
    },
    {
     "name": "stdout",
     "output_type": "stream",
     "text": [
      "thalamus_mni/space-MNI152NLin2009cAsym_desc-mask-CeM-l_avg.nii.gz\n"
     ]
    },
    {
     "name": "stderr",
     "output_type": "stream",
     "text": [
      "/tmp/ipykernel_552535/2424108890.py:22: FutureWarning:\n",
      "\n",
      "'force_resample' will be set to 'True' by default in Nilearn 0.13.0.\n",
      "Use 'force_resample=True' to suppress this warning.\n",
      "\n",
      "/home/stevenm/miniconda3/lib/python3.9/site-packages/nilearn/image/resampling.py:807: FutureWarning:\n",
      "\n",
      "From release 0.13.0 onwards, this function will, by default, copy the header of the input image to the output. Currently, the header is reset to the default Nifti1Header. To suppress this warning and use the new behavior, set `copy_header=True`.\n",
      "\n"
     ]
    },
    {
     "name": "stdout",
     "output_type": "stream",
     "text": [
      "thalamus_mni/space-MNI152NLin2009cAsym_desc-mask-CeM-r_avg.nii.gz\n"
     ]
    },
    {
     "name": "stderr",
     "output_type": "stream",
     "text": [
      "/tmp/ipykernel_552535/2424108890.py:22: FutureWarning:\n",
      "\n",
      "'force_resample' will be set to 'True' by default in Nilearn 0.13.0.\n",
      "Use 'force_resample=True' to suppress this warning.\n",
      "\n",
      "/home/stevenm/miniconda3/lib/python3.9/site-packages/nilearn/image/resampling.py:807: FutureWarning:\n",
      "\n",
      "From release 0.13.0 onwards, this function will, by default, copy the header of the input image to the output. Currently, the header is reset to the default Nifti1Header. To suppress this warning and use the new behavior, set `copy_header=True`.\n",
      "\n"
     ]
    },
    {
     "name": "stdout",
     "output_type": "stream",
     "text": [
      "thalamus_mni/space-MNI152NLin2009cAsym_desc-mask-LD-l_avg.nii.gz\n"
     ]
    },
    {
     "name": "stderr",
     "output_type": "stream",
     "text": [
      "/tmp/ipykernel_552535/2424108890.py:22: FutureWarning:\n",
      "\n",
      "'force_resample' will be set to 'True' by default in Nilearn 0.13.0.\n",
      "Use 'force_resample=True' to suppress this warning.\n",
      "\n",
      "/home/stevenm/miniconda3/lib/python3.9/site-packages/nilearn/image/resampling.py:807: FutureWarning:\n",
      "\n",
      "From release 0.13.0 onwards, this function will, by default, copy the header of the input image to the output. Currently, the header is reset to the default Nifti1Header. To suppress this warning and use the new behavior, set `copy_header=True`.\n",
      "\n"
     ]
    },
    {
     "name": "stdout",
     "output_type": "stream",
     "text": [
      "thalamus_mni/space-MNI152NLin2009cAsym_desc-mask-LD-r_avg.nii.gz\n"
     ]
    },
    {
     "name": "stderr",
     "output_type": "stream",
     "text": [
      "/tmp/ipykernel_552535/2424108890.py:22: FutureWarning:\n",
      "\n",
      "'force_resample' will be set to 'True' by default in Nilearn 0.13.0.\n",
      "Use 'force_resample=True' to suppress this warning.\n",
      "\n",
      "/home/stevenm/miniconda3/lib/python3.9/site-packages/nilearn/image/resampling.py:807: FutureWarning:\n",
      "\n",
      "From release 0.13.0 onwards, this function will, by default, copy the header of the input image to the output. Currently, the header is reset to the default Nifti1Header. To suppress this warning and use the new behavior, set `copy_header=True`.\n",
      "\n"
     ]
    },
    {
     "name": "stdout",
     "output_type": "stream",
     "text": [
      "thalamus_mni/space-MNI152NLin2009cAsym_desc-mask-LGN-l_avg.nii.gz\n"
     ]
    },
    {
     "name": "stderr",
     "output_type": "stream",
     "text": [
      "/tmp/ipykernel_552535/2424108890.py:22: FutureWarning:\n",
      "\n",
      "'force_resample' will be set to 'True' by default in Nilearn 0.13.0.\n",
      "Use 'force_resample=True' to suppress this warning.\n",
      "\n",
      "/home/stevenm/miniconda3/lib/python3.9/site-packages/nilearn/image/resampling.py:807: FutureWarning:\n",
      "\n",
      "From release 0.13.0 onwards, this function will, by default, copy the header of the input image to the output. Currently, the header is reset to the default Nifti1Header. To suppress this warning and use the new behavior, set `copy_header=True`.\n",
      "\n"
     ]
    },
    {
     "name": "stdout",
     "output_type": "stream",
     "text": [
      "thalamus_mni/space-MNI152NLin2009cAsym_desc-mask-LGN-r_avg.nii.gz\n"
     ]
    },
    {
     "name": "stderr",
     "output_type": "stream",
     "text": [
      "/tmp/ipykernel_552535/2424108890.py:22: FutureWarning:\n",
      "\n",
      "'force_resample' will be set to 'True' by default in Nilearn 0.13.0.\n",
      "Use 'force_resample=True' to suppress this warning.\n",
      "\n",
      "/home/stevenm/miniconda3/lib/python3.9/site-packages/nilearn/image/resampling.py:807: FutureWarning:\n",
      "\n",
      "From release 0.13.0 onwards, this function will, by default, copy the header of the input image to the output. Currently, the header is reset to the default Nifti1Header. To suppress this warning and use the new behavior, set `copy_header=True`.\n",
      "\n"
     ]
    },
    {
     "name": "stdout",
     "output_type": "stream",
     "text": [
      "thalamus_mni/space-MNI152NLin2009cAsym_desc-mask-LP-l_avg.nii.gz\n"
     ]
    },
    {
     "name": "stderr",
     "output_type": "stream",
     "text": [
      "/tmp/ipykernel_552535/2424108890.py:22: FutureWarning:\n",
      "\n",
      "'force_resample' will be set to 'True' by default in Nilearn 0.13.0.\n",
      "Use 'force_resample=True' to suppress this warning.\n",
      "\n",
      "/home/stevenm/miniconda3/lib/python3.9/site-packages/nilearn/image/resampling.py:807: FutureWarning:\n",
      "\n",
      "From release 0.13.0 onwards, this function will, by default, copy the header of the input image to the output. Currently, the header is reset to the default Nifti1Header. To suppress this warning and use the new behavior, set `copy_header=True`.\n",
      "\n"
     ]
    },
    {
     "name": "stdout",
     "output_type": "stream",
     "text": [
      "thalamus_mni/space-MNI152NLin2009cAsym_desc-mask-LP-r_avg.nii.gz\n"
     ]
    },
    {
     "name": "stderr",
     "output_type": "stream",
     "text": [
      "/tmp/ipykernel_552535/2424108890.py:22: FutureWarning:\n",
      "\n",
      "'force_resample' will be set to 'True' by default in Nilearn 0.13.0.\n",
      "Use 'force_resample=True' to suppress this warning.\n",
      "\n",
      "/home/stevenm/miniconda3/lib/python3.9/site-packages/nilearn/image/resampling.py:807: FutureWarning:\n",
      "\n",
      "From release 0.13.0 onwards, this function will, by default, copy the header of the input image to the output. Currently, the header is reset to the default Nifti1Header. To suppress this warning and use the new behavior, set `copy_header=True`.\n",
      "\n"
     ]
    },
    {
     "name": "stdout",
     "output_type": "stream",
     "text": [
      "thalamus_mni/space-MNI152NLin2009cAsym_desc-mask-LSg-l_avg.nii.gz\n"
     ]
    },
    {
     "name": "stderr",
     "output_type": "stream",
     "text": [
      "/tmp/ipykernel_552535/2424108890.py:22: FutureWarning:\n",
      "\n",
      "'force_resample' will be set to 'True' by default in Nilearn 0.13.0.\n",
      "Use 'force_resample=True' to suppress this warning.\n",
      "\n",
      "/home/stevenm/miniconda3/lib/python3.9/site-packages/nilearn/image/resampling.py:807: FutureWarning:\n",
      "\n",
      "From release 0.13.0 onwards, this function will, by default, copy the header of the input image to the output. Currently, the header is reset to the default Nifti1Header. To suppress this warning and use the new behavior, set `copy_header=True`.\n",
      "\n"
     ]
    },
    {
     "name": "stdout",
     "output_type": "stream",
     "text": [
      "thalamus_mni/space-MNI152NLin2009cAsym_desc-mask-LSg-r_avg.nii.gz\n"
     ]
    },
    {
     "name": "stderr",
     "output_type": "stream",
     "text": [
      "/tmp/ipykernel_552535/2424108890.py:22: FutureWarning:\n",
      "\n",
      "'force_resample' will be set to 'True' by default in Nilearn 0.13.0.\n",
      "Use 'force_resample=True' to suppress this warning.\n",
      "\n",
      "/home/stevenm/miniconda3/lib/python3.9/site-packages/nilearn/image/resampling.py:807: FutureWarning:\n",
      "\n",
      "From release 0.13.0 onwards, this function will, by default, copy the header of the input image to the output. Currently, the header is reset to the default Nifti1Header. To suppress this warning and use the new behavior, set `copy_header=True`.\n",
      "\n"
     ]
    },
    {
     "name": "stdout",
     "output_type": "stream",
     "text": [
      "thalamus_mni/space-MNI152NLin2009cAsym_desc-mask-MDl-l_avg.nii.gz\n"
     ]
    },
    {
     "name": "stderr",
     "output_type": "stream",
     "text": [
      "/tmp/ipykernel_552535/2424108890.py:22: FutureWarning:\n",
      "\n",
      "'force_resample' will be set to 'True' by default in Nilearn 0.13.0.\n",
      "Use 'force_resample=True' to suppress this warning.\n",
      "\n",
      "/home/stevenm/miniconda3/lib/python3.9/site-packages/nilearn/image/resampling.py:807: FutureWarning:\n",
      "\n",
      "From release 0.13.0 onwards, this function will, by default, copy the header of the input image to the output. Currently, the header is reset to the default Nifti1Header. To suppress this warning and use the new behavior, set `copy_header=True`.\n",
      "\n"
     ]
    },
    {
     "name": "stdout",
     "output_type": "stream",
     "text": [
      "thalamus_mni/space-MNI152NLin2009cAsym_desc-mask-MDl-r_avg.nii.gz\n"
     ]
    },
    {
     "name": "stderr",
     "output_type": "stream",
     "text": [
      "/tmp/ipykernel_552535/2424108890.py:22: FutureWarning:\n",
      "\n",
      "'force_resample' will be set to 'True' by default in Nilearn 0.13.0.\n",
      "Use 'force_resample=True' to suppress this warning.\n",
      "\n",
      "/home/stevenm/miniconda3/lib/python3.9/site-packages/nilearn/image/resampling.py:807: FutureWarning:\n",
      "\n",
      "From release 0.13.0 onwards, this function will, by default, copy the header of the input image to the output. Currently, the header is reset to the default Nifti1Header. To suppress this warning and use the new behavior, set `copy_header=True`.\n",
      "\n"
     ]
    },
    {
     "name": "stdout",
     "output_type": "stream",
     "text": [
      "thalamus_mni/space-MNI152NLin2009cAsym_desc-mask-MDm-l_avg.nii.gz\n"
     ]
    },
    {
     "name": "stderr",
     "output_type": "stream",
     "text": [
      "/tmp/ipykernel_552535/2424108890.py:22: FutureWarning:\n",
      "\n",
      "'force_resample' will be set to 'True' by default in Nilearn 0.13.0.\n",
      "Use 'force_resample=True' to suppress this warning.\n",
      "\n",
      "/home/stevenm/miniconda3/lib/python3.9/site-packages/nilearn/image/resampling.py:807: FutureWarning:\n",
      "\n",
      "From release 0.13.0 onwards, this function will, by default, copy the header of the input image to the output. Currently, the header is reset to the default Nifti1Header. To suppress this warning and use the new behavior, set `copy_header=True`.\n",
      "\n"
     ]
    },
    {
     "name": "stdout",
     "output_type": "stream",
     "text": [
      "thalamus_mni/space-MNI152NLin2009cAsym_desc-mask-MDm-r_avg.nii.gz\n"
     ]
    },
    {
     "name": "stderr",
     "output_type": "stream",
     "text": [
      "/tmp/ipykernel_552535/2424108890.py:22: FutureWarning:\n",
      "\n",
      "'force_resample' will be set to 'True' by default in Nilearn 0.13.0.\n",
      "Use 'force_resample=True' to suppress this warning.\n",
      "\n",
      "/home/stevenm/miniconda3/lib/python3.9/site-packages/nilearn/image/resampling.py:807: FutureWarning:\n",
      "\n",
      "From release 0.13.0 onwards, this function will, by default, copy the header of the input image to the output. Currently, the header is reset to the default Nifti1Header. To suppress this warning and use the new behavior, set `copy_header=True`.\n",
      "\n"
     ]
    },
    {
     "name": "stdout",
     "output_type": "stream",
     "text": [
      "thalamus_mni/space-MNI152NLin2009cAsym_desc-mask-MGN-l_avg.nii.gz\n"
     ]
    },
    {
     "name": "stderr",
     "output_type": "stream",
     "text": [
      "/tmp/ipykernel_552535/2424108890.py:22: FutureWarning:\n",
      "\n",
      "'force_resample' will be set to 'True' by default in Nilearn 0.13.0.\n",
      "Use 'force_resample=True' to suppress this warning.\n",
      "\n",
      "/home/stevenm/miniconda3/lib/python3.9/site-packages/nilearn/image/resampling.py:807: FutureWarning:\n",
      "\n",
      "From release 0.13.0 onwards, this function will, by default, copy the header of the input image to the output. Currently, the header is reset to the default Nifti1Header. To suppress this warning and use the new behavior, set `copy_header=True`.\n",
      "\n"
     ]
    },
    {
     "name": "stdout",
     "output_type": "stream",
     "text": [
      "thalamus_mni/space-MNI152NLin2009cAsym_desc-mask-MGN-r_avg.nii.gz\n"
     ]
    },
    {
     "name": "stderr",
     "output_type": "stream",
     "text": [
      "/tmp/ipykernel_552535/2424108890.py:22: FutureWarning:\n",
      "\n",
      "'force_resample' will be set to 'True' by default in Nilearn 0.13.0.\n",
      "Use 'force_resample=True' to suppress this warning.\n",
      "\n",
      "/home/stevenm/miniconda3/lib/python3.9/site-packages/nilearn/image/resampling.py:807: FutureWarning:\n",
      "\n",
      "From release 0.13.0 onwards, this function will, by default, copy the header of the input image to the output. Currently, the header is reset to the default Nifti1Header. To suppress this warning and use the new behavior, set `copy_header=True`.\n",
      "\n"
     ]
    },
    {
     "name": "stdout",
     "output_type": "stream",
     "text": [
      "thalamus_mni/space-MNI152NLin2009cAsym_desc-mask-MV-l_avg.nii.gz\n"
     ]
    },
    {
     "name": "stderr",
     "output_type": "stream",
     "text": [
      "/tmp/ipykernel_552535/2424108890.py:22: FutureWarning:\n",
      "\n",
      "'force_resample' will be set to 'True' by default in Nilearn 0.13.0.\n",
      "Use 'force_resample=True' to suppress this warning.\n",
      "\n",
      "/home/stevenm/miniconda3/lib/python3.9/site-packages/nilearn/image/resampling.py:807: FutureWarning:\n",
      "\n",
      "From release 0.13.0 onwards, this function will, by default, copy the header of the input image to the output. Currently, the header is reset to the default Nifti1Header. To suppress this warning and use the new behavior, set `copy_header=True`.\n",
      "\n"
     ]
    },
    {
     "name": "stdout",
     "output_type": "stream",
     "text": [
      "thalamus_mni/space-MNI152NLin2009cAsym_desc-mask-MV-r_avg.nii.gz\n"
     ]
    },
    {
     "name": "stderr",
     "output_type": "stream",
     "text": [
      "/tmp/ipykernel_552535/2424108890.py:22: FutureWarning:\n",
      "\n",
      "'force_resample' will be set to 'True' by default in Nilearn 0.13.0.\n",
      "Use 'force_resample=True' to suppress this warning.\n",
      "\n",
      "/home/stevenm/miniconda3/lib/python3.9/site-packages/nilearn/image/resampling.py:807: FutureWarning:\n",
      "\n",
      "From release 0.13.0 onwards, this function will, by default, copy the header of the input image to the output. Currently, the header is reset to the default Nifti1Header. To suppress this warning and use the new behavior, set `copy_header=True`.\n",
      "\n"
     ]
    },
    {
     "name": "stdout",
     "output_type": "stream",
     "text": [
      "thalamus_mni/space-MNI152NLin2009cAsym_desc-mask-PaV-l_avg.nii.gz\n",
      "thalamus_mni/space-MNI152NLin2009cAsym_desc-mask-PaV-r_avg.nii.gz\n",
      "thalamus_mni/space-MNI152NLin2009cAsym_desc-mask-Pc-l_avg.nii.gz\n",
      "thalamus_mni/space-MNI152NLin2009cAsym_desc-mask-Pc-r_avg.nii.gz\n",
      "thalamus_mni/space-MNI152NLin2009cAsym_desc-mask-Pf-l_avg.nii.gz\n"
     ]
    },
    {
     "name": "stderr",
     "output_type": "stream",
     "text": [
      "/tmp/ipykernel_552535/2424108890.py:22: FutureWarning:\n",
      "\n",
      "'force_resample' will be set to 'True' by default in Nilearn 0.13.0.\n",
      "Use 'force_resample=True' to suppress this warning.\n",
      "\n",
      "/home/stevenm/miniconda3/lib/python3.9/site-packages/nilearn/image/resampling.py:807: FutureWarning:\n",
      "\n",
      "From release 0.13.0 onwards, this function will, by default, copy the header of the input image to the output. Currently, the header is reset to the default Nifti1Header. To suppress this warning and use the new behavior, set `copy_header=True`.\n",
      "\n"
     ]
    },
    {
     "name": "stdout",
     "output_type": "stream",
     "text": [
      "thalamus_mni/space-MNI152NLin2009cAsym_desc-mask-Pf-r_avg.nii.gz\n"
     ]
    },
    {
     "name": "stderr",
     "output_type": "stream",
     "text": [
      "/tmp/ipykernel_552535/2424108890.py:22: FutureWarning:\n",
      "\n",
      "'force_resample' will be set to 'True' by default in Nilearn 0.13.0.\n",
      "Use 'force_resample=True' to suppress this warning.\n",
      "\n",
      "/home/stevenm/miniconda3/lib/python3.9/site-packages/nilearn/image/resampling.py:807: FutureWarning:\n",
      "\n",
      "From release 0.13.0 onwards, this function will, by default, copy the header of the input image to the output. Currently, the header is reset to the default Nifti1Header. To suppress this warning and use the new behavior, set `copy_header=True`.\n",
      "\n"
     ]
    },
    {
     "name": "stdout",
     "output_type": "stream",
     "text": [
      "thalamus_mni/space-MNI152NLin2009cAsym_desc-mask-Pt-l_avg.nii.gz\n",
      "thalamus_mni/space-MNI152NLin2009cAsym_desc-mask-Pt-r_avg.nii.gz\n",
      "thalamus_mni/space-MNI152NLin2009cAsym_desc-mask-PuA-l_avg.nii.gz\n"
     ]
    },
    {
     "name": "stderr",
     "output_type": "stream",
     "text": [
      "/tmp/ipykernel_552535/2424108890.py:22: FutureWarning:\n",
      "\n",
      "'force_resample' will be set to 'True' by default in Nilearn 0.13.0.\n",
      "Use 'force_resample=True' to suppress this warning.\n",
      "\n",
      "/home/stevenm/miniconda3/lib/python3.9/site-packages/nilearn/image/resampling.py:807: FutureWarning:\n",
      "\n",
      "From release 0.13.0 onwards, this function will, by default, copy the header of the input image to the output. Currently, the header is reset to the default Nifti1Header. To suppress this warning and use the new behavior, set `copy_header=True`.\n",
      "\n"
     ]
    },
    {
     "name": "stdout",
     "output_type": "stream",
     "text": [
      "thalamus_mni/space-MNI152NLin2009cAsym_desc-mask-PuA-r_avg.nii.gz\n"
     ]
    },
    {
     "name": "stderr",
     "output_type": "stream",
     "text": [
      "/tmp/ipykernel_552535/2424108890.py:22: FutureWarning:\n",
      "\n",
      "'force_resample' will be set to 'True' by default in Nilearn 0.13.0.\n",
      "Use 'force_resample=True' to suppress this warning.\n",
      "\n",
      "/home/stevenm/miniconda3/lib/python3.9/site-packages/nilearn/image/resampling.py:807: FutureWarning:\n",
      "\n",
      "From release 0.13.0 onwards, this function will, by default, copy the header of the input image to the output. Currently, the header is reset to the default Nifti1Header. To suppress this warning and use the new behavior, set `copy_header=True`.\n",
      "\n"
     ]
    },
    {
     "name": "stdout",
     "output_type": "stream",
     "text": [
      "thalamus_mni/space-MNI152NLin2009cAsym_desc-mask-PuI-l_avg.nii.gz\n"
     ]
    },
    {
     "name": "stderr",
     "output_type": "stream",
     "text": [
      "/tmp/ipykernel_552535/2424108890.py:22: FutureWarning:\n",
      "\n",
      "'force_resample' will be set to 'True' by default in Nilearn 0.13.0.\n",
      "Use 'force_resample=True' to suppress this warning.\n",
      "\n",
      "/home/stevenm/miniconda3/lib/python3.9/site-packages/nilearn/image/resampling.py:807: FutureWarning:\n",
      "\n",
      "From release 0.13.0 onwards, this function will, by default, copy the header of the input image to the output. Currently, the header is reset to the default Nifti1Header. To suppress this warning and use the new behavior, set `copy_header=True`.\n",
      "\n"
     ]
    },
    {
     "name": "stdout",
     "output_type": "stream",
     "text": [
      "thalamus_mni/space-MNI152NLin2009cAsym_desc-mask-PuI-r_avg.nii.gz\n"
     ]
    },
    {
     "name": "stderr",
     "output_type": "stream",
     "text": [
      "/tmp/ipykernel_552535/2424108890.py:22: FutureWarning:\n",
      "\n",
      "'force_resample' will be set to 'True' by default in Nilearn 0.13.0.\n",
      "Use 'force_resample=True' to suppress this warning.\n",
      "\n",
      "/home/stevenm/miniconda3/lib/python3.9/site-packages/nilearn/image/resampling.py:807: FutureWarning:\n",
      "\n",
      "From release 0.13.0 onwards, this function will, by default, copy the header of the input image to the output. Currently, the header is reset to the default Nifti1Header. To suppress this warning and use the new behavior, set `copy_header=True`.\n",
      "\n"
     ]
    },
    {
     "name": "stdout",
     "output_type": "stream",
     "text": [
      "thalamus_mni/space-MNI152NLin2009cAsym_desc-mask-PuL-l_avg.nii.gz\n"
     ]
    },
    {
     "name": "stderr",
     "output_type": "stream",
     "text": [
      "/tmp/ipykernel_552535/2424108890.py:22: FutureWarning:\n",
      "\n",
      "'force_resample' will be set to 'True' by default in Nilearn 0.13.0.\n",
      "Use 'force_resample=True' to suppress this warning.\n",
      "\n",
      "/home/stevenm/miniconda3/lib/python3.9/site-packages/nilearn/image/resampling.py:807: FutureWarning:\n",
      "\n",
      "From release 0.13.0 onwards, this function will, by default, copy the header of the input image to the output. Currently, the header is reset to the default Nifti1Header. To suppress this warning and use the new behavior, set `copy_header=True`.\n",
      "\n"
     ]
    },
    {
     "name": "stdout",
     "output_type": "stream",
     "text": [
      "thalamus_mni/space-MNI152NLin2009cAsym_desc-mask-PuL-r_avg.nii.gz\n"
     ]
    },
    {
     "name": "stderr",
     "output_type": "stream",
     "text": [
      "/tmp/ipykernel_552535/2424108890.py:22: FutureWarning:\n",
      "\n",
      "'force_resample' will be set to 'True' by default in Nilearn 0.13.0.\n",
      "Use 'force_resample=True' to suppress this warning.\n",
      "\n",
      "/home/stevenm/miniconda3/lib/python3.9/site-packages/nilearn/image/resampling.py:807: FutureWarning:\n",
      "\n",
      "From release 0.13.0 onwards, this function will, by default, copy the header of the input image to the output. Currently, the header is reset to the default Nifti1Header. To suppress this warning and use the new behavior, set `copy_header=True`.\n",
      "\n"
     ]
    },
    {
     "name": "stdout",
     "output_type": "stream",
     "text": [
      "thalamus_mni/space-MNI152NLin2009cAsym_desc-mask-PuM-l_avg.nii.gz\n"
     ]
    },
    {
     "name": "stderr",
     "output_type": "stream",
     "text": [
      "/tmp/ipykernel_552535/2424108890.py:22: FutureWarning:\n",
      "\n",
      "'force_resample' will be set to 'True' by default in Nilearn 0.13.0.\n",
      "Use 'force_resample=True' to suppress this warning.\n",
      "\n",
      "/home/stevenm/miniconda3/lib/python3.9/site-packages/nilearn/image/resampling.py:807: FutureWarning:\n",
      "\n",
      "From release 0.13.0 onwards, this function will, by default, copy the header of the input image to the output. Currently, the header is reset to the default Nifti1Header. To suppress this warning and use the new behavior, set `copy_header=True`.\n",
      "\n"
     ]
    },
    {
     "name": "stdout",
     "output_type": "stream",
     "text": [
      "thalamus_mni/space-MNI152NLin2009cAsym_desc-mask-PuM-r_avg.nii.gz\n"
     ]
    },
    {
     "name": "stderr",
     "output_type": "stream",
     "text": [
      "/tmp/ipykernel_552535/2424108890.py:22: FutureWarning:\n",
      "\n",
      "'force_resample' will be set to 'True' by default in Nilearn 0.13.0.\n",
      "Use 'force_resample=True' to suppress this warning.\n",
      "\n",
      "/home/stevenm/miniconda3/lib/python3.9/site-packages/nilearn/image/resampling.py:807: FutureWarning:\n",
      "\n",
      "From release 0.13.0 onwards, this function will, by default, copy the header of the input image to the output. Currently, the header is reset to the default Nifti1Header. To suppress this warning and use the new behavior, set `copy_header=True`.\n",
      "\n"
     ]
    },
    {
     "name": "stdout",
     "output_type": "stream",
     "text": [
      "thalamus_mni/space-MNI152NLin2009cAsym_desc-mask-R-l_avg.nii.gz\n",
      "thalamus_mni/space-MNI152NLin2009cAsym_desc-mask-R-r_avg.nii.gz\n",
      "thalamus_mni/space-MNI152NLin2009cAsym_desc-mask-VA-l_avg.nii.gz\n"
     ]
    },
    {
     "name": "stderr",
     "output_type": "stream",
     "text": [
      "/tmp/ipykernel_552535/2424108890.py:22: FutureWarning:\n",
      "\n",
      "'force_resample' will be set to 'True' by default in Nilearn 0.13.0.\n",
      "Use 'force_resample=True' to suppress this warning.\n",
      "\n",
      "/home/stevenm/miniconda3/lib/python3.9/site-packages/nilearn/image/resampling.py:807: FutureWarning:\n",
      "\n",
      "From release 0.13.0 onwards, this function will, by default, copy the header of the input image to the output. Currently, the header is reset to the default Nifti1Header. To suppress this warning and use the new behavior, set `copy_header=True`.\n",
      "\n"
     ]
    },
    {
     "name": "stdout",
     "output_type": "stream",
     "text": [
      "thalamus_mni/space-MNI152NLin2009cAsym_desc-mask-VA-r_avg.nii.gz\n"
     ]
    },
    {
     "name": "stderr",
     "output_type": "stream",
     "text": [
      "/tmp/ipykernel_552535/2424108890.py:22: FutureWarning:\n",
      "\n",
      "'force_resample' will be set to 'True' by default in Nilearn 0.13.0.\n",
      "Use 'force_resample=True' to suppress this warning.\n",
      "\n",
      "/home/stevenm/miniconda3/lib/python3.9/site-packages/nilearn/image/resampling.py:807: FutureWarning:\n",
      "\n",
      "From release 0.13.0 onwards, this function will, by default, copy the header of the input image to the output. Currently, the header is reset to the default Nifti1Header. To suppress this warning and use the new behavior, set `copy_header=True`.\n",
      "\n"
     ]
    },
    {
     "name": "stdout",
     "output_type": "stream",
     "text": [
      "thalamus_mni/space-MNI152NLin2009cAsym_desc-mask-VAmc-l_avg.nii.gz\n"
     ]
    },
    {
     "name": "stderr",
     "output_type": "stream",
     "text": [
      "/tmp/ipykernel_552535/2424108890.py:22: FutureWarning:\n",
      "\n",
      "'force_resample' will be set to 'True' by default in Nilearn 0.13.0.\n",
      "Use 'force_resample=True' to suppress this warning.\n",
      "\n",
      "/home/stevenm/miniconda3/lib/python3.9/site-packages/nilearn/image/resampling.py:807: FutureWarning:\n",
      "\n",
      "From release 0.13.0 onwards, this function will, by default, copy the header of the input image to the output. Currently, the header is reset to the default Nifti1Header. To suppress this warning and use the new behavior, set `copy_header=True`.\n",
      "\n"
     ]
    },
    {
     "name": "stdout",
     "output_type": "stream",
     "text": [
      "thalamus_mni/space-MNI152NLin2009cAsym_desc-mask-VAmc-r_avg.nii.gz\n"
     ]
    },
    {
     "name": "stderr",
     "output_type": "stream",
     "text": [
      "/tmp/ipykernel_552535/2424108890.py:22: FutureWarning:\n",
      "\n",
      "'force_resample' will be set to 'True' by default in Nilearn 0.13.0.\n",
      "Use 'force_resample=True' to suppress this warning.\n",
      "\n",
      "/home/stevenm/miniconda3/lib/python3.9/site-packages/nilearn/image/resampling.py:807: FutureWarning:\n",
      "\n",
      "From release 0.13.0 onwards, this function will, by default, copy the header of the input image to the output. Currently, the header is reset to the default Nifti1Header. To suppress this warning and use the new behavior, set `copy_header=True`.\n",
      "\n"
     ]
    },
    {
     "name": "stdout",
     "output_type": "stream",
     "text": [
      "thalamus_mni/space-MNI152NLin2009cAsym_desc-mask-VLa-l_avg.nii.gz\n"
     ]
    },
    {
     "name": "stderr",
     "output_type": "stream",
     "text": [
      "/tmp/ipykernel_552535/2424108890.py:22: FutureWarning:\n",
      "\n",
      "'force_resample' will be set to 'True' by default in Nilearn 0.13.0.\n",
      "Use 'force_resample=True' to suppress this warning.\n",
      "\n",
      "/home/stevenm/miniconda3/lib/python3.9/site-packages/nilearn/image/resampling.py:807: FutureWarning:\n",
      "\n",
      "From release 0.13.0 onwards, this function will, by default, copy the header of the input image to the output. Currently, the header is reset to the default Nifti1Header. To suppress this warning and use the new behavior, set `copy_header=True`.\n",
      "\n"
     ]
    },
    {
     "name": "stdout",
     "output_type": "stream",
     "text": [
      "thalamus_mni/space-MNI152NLin2009cAsym_desc-mask-VLa-r_avg.nii.gz\n"
     ]
    },
    {
     "name": "stderr",
     "output_type": "stream",
     "text": [
      "/tmp/ipykernel_552535/2424108890.py:22: FutureWarning:\n",
      "\n",
      "'force_resample' will be set to 'True' by default in Nilearn 0.13.0.\n",
      "Use 'force_resample=True' to suppress this warning.\n",
      "\n",
      "/home/stevenm/miniconda3/lib/python3.9/site-packages/nilearn/image/resampling.py:807: FutureWarning:\n",
      "\n",
      "From release 0.13.0 onwards, this function will, by default, copy the header of the input image to the output. Currently, the header is reset to the default Nifti1Header. To suppress this warning and use the new behavior, set `copy_header=True`.\n",
      "\n"
     ]
    },
    {
     "name": "stdout",
     "output_type": "stream",
     "text": [
      "thalamus_mni/space-MNI152NLin2009cAsym_desc-mask-VLp-l_avg.nii.gz\n"
     ]
    },
    {
     "name": "stderr",
     "output_type": "stream",
     "text": [
      "/tmp/ipykernel_552535/2424108890.py:22: FutureWarning:\n",
      "\n",
      "'force_resample' will be set to 'True' by default in Nilearn 0.13.0.\n",
      "Use 'force_resample=True' to suppress this warning.\n",
      "\n",
      "/home/stevenm/miniconda3/lib/python3.9/site-packages/nilearn/image/resampling.py:807: FutureWarning:\n",
      "\n",
      "From release 0.13.0 onwards, this function will, by default, copy the header of the input image to the output. Currently, the header is reset to the default Nifti1Header. To suppress this warning and use the new behavior, set `copy_header=True`.\n",
      "\n"
     ]
    },
    {
     "name": "stdout",
     "output_type": "stream",
     "text": [
      "thalamus_mni/space-MNI152NLin2009cAsym_desc-mask-VLp-r_avg.nii.gz\n"
     ]
    },
    {
     "name": "stderr",
     "output_type": "stream",
     "text": [
      "/tmp/ipykernel_552535/2424108890.py:22: FutureWarning:\n",
      "\n",
      "'force_resample' will be set to 'True' by default in Nilearn 0.13.0.\n",
      "Use 'force_resample=True' to suppress this warning.\n",
      "\n",
      "/home/stevenm/miniconda3/lib/python3.9/site-packages/nilearn/image/resampling.py:807: FutureWarning:\n",
      "\n",
      "From release 0.13.0 onwards, this function will, by default, copy the header of the input image to the output. Currently, the header is reset to the default Nifti1Header. To suppress this warning and use the new behavior, set `copy_header=True`.\n",
      "\n"
     ]
    },
    {
     "name": "stdout",
     "output_type": "stream",
     "text": [
      "thalamus_mni/space-MNI152NLin2009cAsym_desc-mask-VM-l_avg.nii.gz\n",
      "thalamus_mni/space-MNI152NLin2009cAsym_desc-mask-VM-r_avg.nii.gz\n",
      "thalamus_mni/space-MNI152NLin2009cAsym_desc-mask-VPL-l_avg.nii.gz\n"
     ]
    },
    {
     "name": "stderr",
     "output_type": "stream",
     "text": [
      "/tmp/ipykernel_552535/2424108890.py:22: FutureWarning:\n",
      "\n",
      "'force_resample' will be set to 'True' by default in Nilearn 0.13.0.\n",
      "Use 'force_resample=True' to suppress this warning.\n",
      "\n",
      "/home/stevenm/miniconda3/lib/python3.9/site-packages/nilearn/image/resampling.py:807: FutureWarning:\n",
      "\n",
      "From release 0.13.0 onwards, this function will, by default, copy the header of the input image to the output. Currently, the header is reset to the default Nifti1Header. To suppress this warning and use the new behavior, set `copy_header=True`.\n",
      "\n"
     ]
    },
    {
     "name": "stdout",
     "output_type": "stream",
     "text": [
      "thalamus_mni/space-MNI152NLin2009cAsym_desc-mask-VPL-r_avg.nii.gz\n"
     ]
    },
    {
     "name": "stderr",
     "output_type": "stream",
     "text": [
      "/tmp/ipykernel_552535/2424108890.py:22: FutureWarning:\n",
      "\n",
      "'force_resample' will be set to 'True' by default in Nilearn 0.13.0.\n",
      "Use 'force_resample=True' to suppress this warning.\n",
      "\n",
      "/home/stevenm/miniconda3/lib/python3.9/site-packages/nilearn/image/resampling.py:807: FutureWarning:\n",
      "\n",
      "From release 0.13.0 onwards, this function will, by default, copy the header of the input image to the output. Currently, the header is reset to the default Nifti1Header. To suppress this warning and use the new behavior, set `copy_header=True`.\n",
      "\n"
     ]
    }
   ],
   "source": [
    "#thal_masks = sorted(glob.glob('/home/Public/trondheim/derivatives/thalamic_segmentations/mni09c/mni09c_roi-*-*_res-0p5.nii.gz'))\n",
    "thal_masks = sorted(glob.glob('thalamus_mni/space-MNI152NLin2009cAsym_desc-mask-*-*_avg.nii.gz'))\n",
    "thal_masks\n",
    "\n",
    "target_dir = './objs/thal/original_meshes'\n",
    "if not os.path.exists(target_dir):\n",
    "    os.makedirs(target_dir)\n",
    "\n",
    "regex = re.compile('.*space-MNI152NLin2009cAsym_desc-mask-(?P<roi>\\S+)-(?P<hemisphere>\\S+)_avg.nii.gz')\n",
    "# regex = re.compile('.*mni09c_roi-(?P<roi>\\S+)-(?P<hemisphere>\\S+)_res-0p5.ni*')\n",
    "#regex.match(thal_masks[20]).groupdict()\n",
    "\n",
    "all_masks = {}\n",
    "for mask in thal_masks:\n",
    "    print(mask)\n",
    "    if 'PaV' in mask or 'Pc' in mask or 'Pt' in mask or '-R-' in mask or '-VM-' in mask: # too small\n",
    "        continue\n",
    "    roi_name = regex.match(mask).groupdict()['roi']\n",
    "    hemisphere = regex.match(mask).groupdict()['hemisphere']\n",
    "    mask_name = regex.match(mask).groupdict()['roi'] + regex.match(mask).groupdict()['hemisphere']\n",
    "    ## reorient for consistent orientaiton of meshes\n",
    "    data = nilearn.image.resample_to_img(mask, target_img=massp_masks[0]).get_fdata()\n",
    "#    data = nib.load(mask).get_fdata()\n",
    "    verts, faces, normals, values = marching_cubes(data)\n",
    "    write_obj(os.path.join(target_dir, '{}-{}.obj'.format(roi_name, hemisphere)), verts, faces, normals)"
   ]
  },
  {
   "cell_type": "code",
   "execution_count": 95,
   "metadata": {},
   "outputs": [
    {
     "name": "stdout",
     "output_type": "stream",
     "text": [
      "./objs/thal/original_meshes/AV-l.obj.../objs/thal/original_meshes/AV-r.obj.../objs/thal/original_meshes/CL-l.obj.../objs/thal/original_meshes/CL-r.obj.../objs/thal/original_meshes/CM-l.obj.../objs/thal/original_meshes/CM-r.obj.../objs/thal/original_meshes/CeM-l.obj.../objs/thal/original_meshes/CeM-r.obj.../objs/thal/original_meshes/LD-l.obj.../objs/thal/original_meshes/LD-r.obj.../objs/thal/original_meshes/LGN-l.obj.../objs/thal/original_meshes/LGN-r.obj.../objs/thal/original_meshes/LP-l.obj.../objs/thal/original_meshes/LP-r.obj.../objs/thal/original_meshes/LSg-l.obj.../objs/thal/original_meshes/LSg-r.obj.../objs/thal/original_meshes/MDl-l.obj.../objs/thal/original_meshes/MDl-r.obj.../objs/thal/original_meshes/MDm-l.obj.../objs/thal/original_meshes/MDm-r.obj.../objs/thal/original_meshes/MGN-l.obj.../objs/thal/original_meshes/MGN-r.obj.../objs/thal/original_meshes/MV-l.obj.../objs/thal/original_meshes/MV-r.obj.../objs/thal/original_meshes/Pf-l.obj.../objs/thal/original_meshes/Pf-r.obj.../objs/thal/original_meshes/PuA-l.obj.../objs/thal/original_meshes/PuA-r.obj.../objs/thal/original_meshes/PuI-l.obj.../objs/thal/original_meshes/PuI-r.obj.../objs/thal/original_meshes/PuL-l.obj.../objs/thal/original_meshes/PuL-r.obj.../objs/thal/original_meshes/PuM-l.obj.../objs/thal/original_meshes/PuM-r.obj.../objs/thal/original_meshes/VA-l.obj.../objs/thal/original_meshes/VA-r.obj.../objs/thal/original_meshes/VAmc-l.obj.../objs/thal/original_meshes/VAmc-r.obj.../objs/thal/original_meshes/VLa-l.obj.../objs/thal/original_meshes/VLa-r.obj.../objs/thal/original_meshes/VLp-l.obj.../objs/thal/original_meshes/VLp-r.obj.../objs/thal/original_meshes/VPL-l.obj.../objs/thal/original_meshes/VPL-r.obj.."
     ]
    }
   ],
   "source": [
    "import pymeshlab\n",
    "\n",
    "# let's use the young subjects\n",
    "for fn in sorted(glob.glob('./objs/thal/original_meshes/*.obj')):\n",
    "    print(fn, end='..')\n",
    "    if '/CL-' in fn:\n",
    "        continue\n",
    "    ms = pymeshlab.MeshSet()\n",
    "    ms.load_new_mesh(fn)\n",
    "#    ms.meshing_repair_non_manifold_vertices()\n",
    "#    ms.meshing_repair_non_manifold_edges()\n",
    "#    ms.meshing_decimation_edge_collapse_for_marching_cube_meshes()\n",
    "    ms.apply_coord_laplacian_smoothing()\n",
    "    ms.meshing_re_orient_faces_coherently()\n",
    "#    ms.meshing_invert_face_orientation()\n",
    "    # ms.meshing_decimation_quadric_edge_collapse(targetperc=.7)\n",
    "\n",
    "    \n",
    "#     # simplify here\n",
    "#     ms.\n",
    "    \n",
    "    ms.save_current_mesh('./objs/thal/' + os.path.basename(fn))"
   ]
  },
  {
   "cell_type": "code",
   "execution_count": 7,
   "metadata": {},
   "outputs": [
    {
     "ename": "TypeError",
     "evalue": "filter_function() missing 1 required positional argument: 'self'",
     "output_type": "error",
     "traceback": [
      "\u001b[0;31m---------------------------------------------------------------------------\u001b[0m",
      "\u001b[0;31mTypeError\u001b[0m                                 Traceback (most recent call last)",
      "Cell \u001b[0;32mIn[7], line 1\u001b[0m\n\u001b[0;32m----> 1\u001b[0m \u001b[43mpymeshlab\u001b[49m\u001b[38;5;241;43m.\u001b[39;49m\u001b[43mpmeshlab\u001b[49m\u001b[38;5;241;43m.\u001b[39;49m\u001b[43mMeshSet\u001b[49m\u001b[38;5;241;43m.\u001b[39;49m\u001b[43mmeshing_invert_face_orientation\u001b[49m\u001b[43m(\u001b[49m\u001b[43m)\u001b[49m\n",
      "\u001b[0;31mTypeError\u001b[0m: filter_function() missing 1 required positional argument: 'self'"
     ]
    }
   ],
   "source": [
    "# pymeshlab.pmeshlab.MeshSet.meshing_invert_face_orientation()"
   ]
  },
  {
   "cell_type": "code",
   "execution_count": 8,
   "metadata": {},
   "outputs": [],
   "source": [
    "# thal_masks = "
   ]
  },
  {
   "cell_type": "code",
   "execution_count": null,
   "metadata": {},
   "outputs": [],
   "source": []
  },
  {
   "cell_type": "code",
   "execution_count": null,
   "metadata": {},
   "outputs": [],
   "source": []
  },
  {
   "cell_type": "code",
   "execution_count": null,
   "metadata": {},
   "outputs": [],
   "source": [
    "# from mayavi import mlab\n",
    "# mlab.init_notebook()\n",
    "\n",
    "# fig = mlab.figure(bgcolor=(0,0,0))\n",
    "# s = mlab.test_plot3d()\n",
    "# s"
   ]
  },
  {
   "cell_type": "code",
   "execution_count": null,
   "metadata": {},
   "outputs": [],
   "source": []
  },
  {
   "cell_type": "markdown",
   "metadata": {},
   "source": [
    "## Simplify meshes\n",
    "Makes use of meshlab's decimate"
   ]
  },
  {
   "cell_type": "code",
   "execution_count": 6,
   "metadata": {},
   "outputs": [
    {
     "ename": "ModuleNotFoundError",
     "evalue": "No module named 'meshlabxml'",
     "output_type": "error",
     "traceback": [
      "\u001b[0;31m---------------------------------------------------------------------------\u001b[0m",
      "\u001b[0;31mModuleNotFoundError\u001b[0m                       Traceback (most recent call last)",
      "Cell \u001b[0;32mIn[6], line 1\u001b[0m\n\u001b[0;32m----> 1\u001b[0m \u001b[38;5;28;01mimport\u001b[39;00m \u001b[38;5;21;01mmeshlabxml\u001b[39;00m\n",
      "\u001b[0;31mModuleNotFoundError\u001b[0m: No module named 'meshlabxml'"
     ]
    }
   ],
   "source": [
    "import meshlabxml"
   ]
  },
  {
   "cell_type": "code",
   "execution_count": 14,
   "metadata": {},
   "outputs": [],
   "source": [
    "def simplify_mesh(in_file, out_file, target_perc=0.01):\n",
    "    import meshlabxml as mlx\n",
    "    import os\n",
    "    script = 'simplify.mlx' # script file\n",
    "    \n",
    "    mlx.begin(script=script, file_in=in_file) # Start writing the script to the script file\n",
    "    mlx.remesh.simplify(script=script, texture=False, faces=1000,\n",
    "                        target_perc=target_perc, quality_thr=0.3, preserve_boundary=False,\n",
    "                        boundary_weight=1.0, preserve_normal=False,\n",
    "                        optimal_placement=True, planar_quadric=False,\n",
    "                        selected=False, extra_tex_coord_weight=1.0,\n",
    "                        preserve_topology=True, quality_weight=False,\n",
    "                        autoclean=True)\n",
    "    mlx.end(script=script) # Finish writing the script to the script file\n",
    "    \n",
    "    call = ['xvfb-run', '-a', '-s', '\"-screen 0 800x600x24\"', \"meshlabserver\", \"-i\", \n",
    "                     in_file, \"-o\", \n",
    "                     out_file, \"-s\", \"simplify.mlx\"]\n",
    "    os.system(' '.join(call))"
   ]
  },
  {
   "cell_type": "code",
   "execution_count": 18,
   "metadata": {},
   "outputs": [
    {
     "name": "stdout",
     "output_type": "stream",
     "text": [
      "app/data/ahead_objs/original_meshes/amg-l.obj\n",
      "app/data/ahead_objs/original_meshes/amg-r.obj\n",
      "app/data/ahead_objs/original_meshes/cl-l.obj\n",
      "app/data/ahead_objs/original_meshes/cl-r.obj\n",
      "app/data/ahead_objs/original_meshes/fx-lr.obj\n",
      "app/data/ahead_objs/original_meshes/gpe-l.obj\n",
      "app/data/ahead_objs/original_meshes/gpe-r.obj\n",
      "app/data/ahead_objs/original_meshes/gpi-l.obj\n",
      "app/data/ahead_objs/original_meshes/gpi-r.obj\n",
      "app/data/ahead_objs/original_meshes/ic-l.obj\n",
      "app/data/ahead_objs/original_meshes/ic-r.obj\n",
      "app/data/ahead_objs/original_meshes/pag-l.obj\n",
      "app/data/ahead_objs/original_meshes/pag-r.obj\n",
      "app/data/ahead_objs/original_meshes/ppn-l.obj\n",
      "app/data/ahead_objs/original_meshes/ppn-r.obj\n",
      "app/data/ahead_objs/original_meshes/rn-l.obj\n",
      "app/data/ahead_objs/original_meshes/rn-r.obj\n",
      "app/data/ahead_objs/original_meshes/sn-l.obj\n",
      "app/data/ahead_objs/original_meshes/sn-r.obj\n",
      "app/data/ahead_objs/original_meshes/stn-l.obj\n",
      "app/data/ahead_objs/original_meshes/stn-r.obj\n",
      "app/data/ahead_objs/original_meshes/str-l.obj\n",
      "app/data/ahead_objs/original_meshes/str-r.obj\n",
      "app/data/ahead_objs/original_meshes/tha-l.obj\n",
      "app/data/ahead_objs/original_meshes/tha-r.obj\n",
      "app/data/ahead_objs/original_meshes/vent-3.obj\n",
      "app/data/ahead_objs/original_meshes/vent-4.obj\n",
      "app/data/ahead_objs/original_meshes/vent-l.obj\n",
      "app/data/ahead_objs/original_meshes/vent-r.obj\n",
      "app/data/ahead_objs/original_meshes/vta-l.obj\n",
      "app/data/ahead_objs/original_meshes/vta-r.obj\n",
      "app/data/ahead_objs/original_meshes/amg-l.obj\n",
      "app/data/ahead_objs/original_meshes/amg-r.obj\n",
      "app/data/ahead_objs/original_meshes/cl-l.obj\n",
      "app/data/ahead_objs/original_meshes/cl-r.obj\n",
      "app/data/ahead_objs/original_meshes/fx-lr.obj\n",
      "app/data/ahead_objs/original_meshes/gpe-l.obj\n",
      "app/data/ahead_objs/original_meshes/gpe-r.obj\n",
      "app/data/ahead_objs/original_meshes/gpi-l.obj\n",
      "app/data/ahead_objs/original_meshes/gpi-r.obj\n",
      "app/data/ahead_objs/original_meshes/ic-l.obj\n",
      "app/data/ahead_objs/original_meshes/ic-r.obj\n",
      "app/data/ahead_objs/original_meshes/pag-l.obj\n",
      "app/data/ahead_objs/original_meshes/pag-r.obj\n",
      "app/data/ahead_objs/original_meshes/ppn-l.obj\n",
      "app/data/ahead_objs/original_meshes/ppn-r.obj\n",
      "app/data/ahead_objs/original_meshes/rn-l.obj\n",
      "app/data/ahead_objs/original_meshes/rn-r.obj\n",
      "app/data/ahead_objs/original_meshes/sn-l.obj\n",
      "app/data/ahead_objs/original_meshes/sn-r.obj\n",
      "app/data/ahead_objs/original_meshes/stn-l.obj\n",
      "app/data/ahead_objs/original_meshes/stn-r.obj\n",
      "app/data/ahead_objs/original_meshes/str-l.obj\n",
      "app/data/ahead_objs/original_meshes/str-r.obj\n",
      "app/data/ahead_objs/original_meshes/tha-l.obj\n",
      "app/data/ahead_objs/original_meshes/tha-r.obj\n",
      "app/data/ahead_objs/original_meshes/vent-3.obj\n",
      "app/data/ahead_objs/original_meshes/vent-4.obj\n",
      "app/data/ahead_objs/original_meshes/vent-l.obj\n",
      "app/data/ahead_objs/original_meshes/vent-r.obj\n",
      "app/data/ahead_objs/original_meshes/vta-l.obj\n",
      "app/data/ahead_objs/original_meshes/vta-r.obj\n",
      "app/data/ahead_objs/original_meshes/amg-l.obj\n",
      "app/data/ahead_objs/original_meshes/amg-r.obj\n",
      "app/data/ahead_objs/original_meshes/cl-l.obj\n",
      "app/data/ahead_objs/original_meshes/cl-r.obj\n",
      "app/data/ahead_objs/original_meshes/fx-lr.obj\n",
      "app/data/ahead_objs/original_meshes/gpe-l.obj\n",
      "app/data/ahead_objs/original_meshes/gpe-r.obj\n",
      "app/data/ahead_objs/original_meshes/gpi-l.obj\n",
      "app/data/ahead_objs/original_meshes/gpi-r.obj\n",
      "app/data/ahead_objs/original_meshes/ic-l.obj\n",
      "app/data/ahead_objs/original_meshes/ic-r.obj\n",
      "app/data/ahead_objs/original_meshes/pag-l.obj\n",
      "app/data/ahead_objs/original_meshes/pag-r.obj\n",
      "app/data/ahead_objs/original_meshes/ppn-l.obj\n",
      "app/data/ahead_objs/original_meshes/ppn-r.obj\n",
      "app/data/ahead_objs/original_meshes/rn-l.obj\n",
      "app/data/ahead_objs/original_meshes/rn-r.obj\n",
      "app/data/ahead_objs/original_meshes/sn-l.obj\n",
      "app/data/ahead_objs/original_meshes/sn-r.obj\n",
      "app/data/ahead_objs/original_meshes/stn-l.obj\n",
      "app/data/ahead_objs/original_meshes/stn-r.obj\n",
      "app/data/ahead_objs/original_meshes/str-l.obj\n",
      "app/data/ahead_objs/original_meshes/str-r.obj\n",
      "app/data/ahead_objs/original_meshes/tha-l.obj\n",
      "app/data/ahead_objs/original_meshes/tha-r.obj\n",
      "app/data/ahead_objs/original_meshes/vent-3.obj\n",
      "app/data/ahead_objs/original_meshes/vent-4.obj\n",
      "app/data/ahead_objs/original_meshes/vent-l.obj\n",
      "app/data/ahead_objs/original_meshes/vent-r.obj\n",
      "app/data/ahead_objs/original_meshes/vta-l.obj\n",
      "app/data/ahead_objs/original_meshes/vta-r.obj\n"
     ]
    }
   ],
   "source": [
    "# all_objs = sorted(glob.glob('app/data/ahead_objs/original_meshes/*.obj'))\n",
    "# all_objs\n",
    "\n",
    "# for target_perc in [0.01, 0.05, 0.1]:\n",
    "#     save_dir = os.path.dirname(all_objs[0]).replace('original_meshes', 'simplified-{}'.format(str(target_perc).replace('.', 'p')))\n",
    "#     if not os.path.exists(save_dir):\n",
    "#         os.makedirs(save_dir)\n",
    "    \n",
    "#     for obj in all_objs:\n",
    "#         print(obj)\n",
    "#         simplify_mesh(in_file=obj, out_file=obj.replace('original_meshes', 'simplified-{}'.format(str(target_perc).replace('.', 'p'))),\n",
    "#                       target_perc=target_perc)"
   ]
  },
  {
   "cell_type": "code",
   "execution_count": null,
   "metadata": {},
   "outputs": [],
   "source": []
  },
  {
   "cell_type": "markdown",
   "metadata": {},
   "source": [
    "## Use meshes created for figures"
   ]
  },
  {
   "cell_type": "code",
   "execution_count": 5,
   "metadata": {},
   "outputs": [
    {
     "name": "stdout",
     "output_type": "stream",
     "text": [
      "/home/stevenm/Projects/Ahead_statistics/code/app\n"
     ]
    }
   ],
   "source": []
  },
  {
   "cell_type": "code",
   "execution_count": 1,
   "metadata": {},
   "outputs": [
    {
     "name": "stdout",
     "output_type": "stream",
     "text": [
      "Warning:\n",
      "Unable to load the following plugins:\n",
      "\n",
      "\tlibio_e57.so: libio_e57.so does not seem to be a Qt Plugin.\n",
      "\n",
      "Cannot load library /home/stevenm/miniconda3/lib/python3.9/site-packages/pymeshlab/lib/plugins/libio_e57.so: (/lib/x86_64-linux-gnu/libp11-kit.so.0: undefined symbol: ffi_type_pointer, version LIBFFI_BASE_7.0)\n",
      "\n"
     ]
    }
   ],
   "source": [
    "import pymeshlab"
   ]
  },
  {
   "cell_type": "code",
   "execution_count": 7,
   "metadata": {},
   "outputs": [
    {
     "name": "stdout",
     "output_type": "stream",
     "text": [
      "../objs/decade-18to30/bestlabel/3V-3.obj..../objs/decade-18to30/bestlabel/4V-4.obj..../objs/decade-18to30/bestlabel/AMG-L.obj..../objs/decade-18to30/bestlabel/AMG-R.obj..../objs/decade-18to30/bestlabel/CL-L.obj..../objs/decade-18to30/bestlabel/CL-R.obj..../objs/decade-18to30/bestlabel/GPe-L.obj..../objs/decade-18to30/bestlabel/GPe-R.obj..../objs/decade-18to30/bestlabel/GPi-L.obj..../objs/decade-18to30/bestlabel/GPi-R.obj..../objs/decade-18to30/bestlabel/LV-L.obj..../objs/decade-18to30/bestlabel/LV-R.obj..../objs/decade-18to30/bestlabel/PAG-L.obj..../objs/decade-18to30/bestlabel/PAG-R.obj..../objs/decade-18to30/bestlabel/PPN-L.obj..../objs/decade-18to30/bestlabel/PPN-R.obj..../objs/decade-18to30/bestlabel/RN-L.obj..../objs/decade-18to30/bestlabel/RN-R.obj..../objs/decade-18to30/bestlabel/SN-L.obj..../objs/decade-18to30/bestlabel/SN-R.obj..../objs/decade-18to30/bestlabel/STN-L.obj..../objs/decade-18to30/bestlabel/STN-R.obj..../objs/decade-18to30/bestlabel/STR-L.obj..../objs/decade-18to30/bestlabel/STR-R.obj..../objs/decade-18to30/bestlabel/THA-L.obj..../objs/decade-18to30/bestlabel/THA-R.obj..../objs/decade-18to30/bestlabel/VTA-L.obj..../objs/decade-18to30/bestlabel/VTA-R.obj..../objs/decade-18to30/bestlabel/fx-lr.obj..../objs/decade-18to30/bestlabel/ic-L.obj..../objs/decade-18to30/bestlabel/ic-R.obj.."
     ]
    }
   ],
   "source": [
    "# let's use the young subjects\n",
    "for fn in sorted(glob.glob('../objs/decade-18to30/bestlabel/*.obj')):\n",
    "    print(fn, end='..')\n",
    "    ms = pymeshlab.MeshSet()\n",
    "    ms.load_new_mesh(fn)\n",
    "#     ms.laplacian_smooth()\n",
    "#     ms.re_orient_all_faces_coherentely()\n",
    "    ms.invert_faces_orientation()\n",
    "    \n",
    "#     ms.simplification_edge_collapse_for_marching_cube_meshes()\n",
    "#     # simplify here\n",
    "#     ms.\n",
    "    ms.simplification_quadric_edge_collapse_decimation(targetperc=0.015)\n",
    "    \n",
    "    ms.save_current_mesh('subcortex-app/data/ahead_objs/simplified-0p015/' + os.path.basename(fn))"
   ]
  },
  {
   "cell_type": "code",
   "execution_count": null,
   "metadata": {},
   "outputs": [],
   "source": [
    "## Try to optimize? maybe that'll look a bit better"
   ]
  }
 ],
 "metadata": {
  "kernelspec": {
   "display_name": "Python 3 (ipykernel)",
   "language": "python",
   "name": "python3"
  },
  "language_info": {
   "codemirror_mode": {
    "name": "ipython",
    "version": 3
   },
   "file_extension": ".py",
   "mimetype": "text/x-python",
   "name": "python",
   "nbconvert_exporter": "python",
   "pygments_lexer": "ipython3",
   "version": "3.9.21"
  }
 },
 "nbformat": 4,
 "nbformat_minor": 4
}
